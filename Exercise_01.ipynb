{
 "cells": [
  {
   "cell_type": "markdown",
   "metadata": {},
   "source": [
    "# Exercise Question 1: Given an input list removes the element at index 4 and add it to the 2nd position and also, at the end of the list"
   ]
  },
  {
   "cell_type": "code",
   "execution_count": 44,
   "metadata": {},
   "outputs": [
    {
     "name": "stdout",
     "output_type": "stream",
     "text": [
      "After removing 4th index value [34, 54, 67, 89, 43, 94]\n"
     ]
    }
   ],
   "source": [
    "List = [34, 54, 67, 89, 11, 43, 94]\n",
    "\n",
    "# 1.Removing value using INDEX position by pop\n",
    "List.pop(4)\n",
    "print (\"After removing 4th index value\", List)"
   ]
  },
  {
   "cell_type": "code",
   "execution_count": 32,
   "metadata": {},
   "outputs": [
    {
     "name": "stdout",
     "output_type": "stream",
     "text": [
      "After removing 4th index value using del  [34, 54, 67, 89, 43, 94]\n"
     ]
    }
   ],
   "source": [
    "List = [34, 54, 67, 89, 11, 43, 94]\n",
    "# 2. Removing value using DEL option.\n",
    "del List [4] \n",
    "print (\"After removing 4th index value using del \", List)\n"
   ]
  },
  {
   "cell_type": "code",
   "execution_count": 42,
   "metadata": {},
   "outputs": [
    {
     "name": "stdout",
     "output_type": "stream",
     "text": [
      "After removing 4th index value using slice method  [34, 54, 67, 89, 43, 94]\n"
     ]
    }
   ],
   "source": [
    "List = [34, 54, 67, 89, 11, 43, 94]\n",
    "# 3. Removing value using SLICE method.\n",
    "del List [4:5]\n",
    "print (\"After removing 4th index value using slice method \", List)"
   ]
  },
  {
   "cell_type": "markdown",
   "metadata": {},
   "source": [
    "# List after Adding element at index 2  [34, 54, 11, 67, 89, 43, 94]"
   ]
  },
  {
   "cell_type": "code",
   "execution_count": 50,
   "metadata": {},
   "outputs": [
    {
     "name": "stdout",
     "output_type": "stream",
     "text": [
      "List after Adding element at index 2 using INSERT [34, 54, 11, 67, 89, 43, 94]\n"
     ]
    }
   ],
   "source": [
    "List = [34, 54, 67, 89, 11, 43, 94]\n",
    "# removing 4th element and assign to new variable.\n",
    "List1 = List.pop(4)\n",
    "# inserting the removed variable into original list at index 2 using INSERT option.\n",
    "List.insert (2,List1)\n",
    "print (\"List after Adding element at index 2 using INSERT\", List)"
   ]
  },
  {
   "cell_type": "markdown",
   "metadata": {},
   "source": [
    "# List after Adding element at last  [34, 54, 11, 67, 89, 43, 94, 11]"
   ]
  },
  {
   "cell_type": "code",
   "execution_count": 55,
   "metadata": {},
   "outputs": [
    {
     "name": "stdout",
     "output_type": "stream",
     "text": [
      "List after Adding element at last [34, 54, 11, 67, 89, 43, 94, 11]\n"
     ]
    }
   ],
   "source": [
    "List = [34, 54, 67, 89, 11, 43, 94]\n",
    "List1 = List.pop(4)\n",
    "List.insert (2,List1)\n",
    "List.append(List1)\n",
    "print (\"List after Adding element at last\",List)\n",
    "\n"
   ]
  },
  {
   "cell_type": "markdown",
   "metadata": {},
   "source": [
    "# Exercise Question 2: Given a two list of equal size create a list of unique elements from both the lists into a seperate list"
   ]
  },
  {
   "cell_type": "code",
   "execution_count": 78,
   "metadata": {},
   "outputs": [
    {
     "name": "stdout",
     "output_type": "stream",
     "text": [
      "[2, 3, 4, 5, 6, 7, 8, 9, 16, 25, 36, 49, 64]\n"
     ]
    }
   ],
   "source": [
    "a = [2, 3, 4, 5, 6, 7, 8]\n",
    "b = [4, 9, 16, 25, 36, 49, 64]\n",
    "# using set pick the unique values in both list\n",
    "c = set (a) | set(b)\n",
    "# type conversion to list to do sort operation.\n",
    "c= list(c)\n",
    "c.sort()\n",
    "print (c)"
   ]
  },
  {
   "cell_type": "markdown",
   "metadata": {},
   "source": [
    "# Exercise Question 3: Remove duplicate from a list and create a tuple and find the minimum and maximum number (Hint: Try Functions Min() and Max() )"
   ]
  },
  {
   "cell_type": "code",
   "execution_count": 91,
   "metadata": {},
   "outputs": [
    {
     "name": "stdout",
     "output_type": "stream",
     "text": [
      "Unique value of Original list [44, 52, 53, 54, 87]\n",
      "tuple  [44, 52, 53, 54, 87]\n",
      "Min value  44\n",
      "Max value  87\n"
     ]
    }
   ],
   "source": [
    "List = [87, 52, 44, 53, 54, 87, 52, 53]\n",
    "List1 = list(set(List))\n",
    "print (\"Unique value of Original list\",List1)\n",
    "tup = tuple (List1)\n",
    "print (\"tuple \",List1)\n",
    "print (\"Min value \",min (List1))\n",
    "print (\"Max value \",max (List1))"
   ]
  },
  {
   "cell_type": "markdown",
   "metadata": {},
   "source": [
    "# Exercise Question 4: Display the each word in the string Count the number of words in a string and display it (Including the white spaces)"
   ]
  },
  {
   "cell_type": "code",
   "execution_count": 103,
   "metadata": {},
   "outputs": [
    {
     "name": "stdout",
     "output_type": "stream",
     "text": [
      "W e l c o m e   t o   P y t h o n\n",
      "length of the string 17\n",
      "length of the string include white space 33\n"
     ]
    }
   ],
   "source": [
    "sam_word = \"Welcome to Python\"\n",
    "print (*sam_word)\n",
    "print (\"length of the string\", len (sam_word))\n",
    "len_sam_word = \" \".join(sam_word)\n",
    "print (\"length of the string include white space\", len (len_sam_word))"
   ]
  },
  {
   "cell_type": "markdown",
   "metadata": {},
   "source": [
    "# Exercise Question 5: Write a Python program to access dictionary keys element by index. i.e. Use indexing methods to print the first key"
   ]
  },
  {
   "cell_type": "code",
   "execution_count": 106,
   "metadata": {},
   "outputs": [
    {
     "name": "stdout",
     "output_type": "stream",
     "text": [
      "The key element accesed by index 0 is physics\n"
     ]
    }
   ],
   "source": [
    "sam_dict =  {'physics': 80, 'math': 90, 'chemistry': 86}\n",
    "print (\"The key element accesed by index 0 is\", list(sam_dict)[0])"
   ]
  }
 ],
 "metadata": {
  "kernelspec": {
   "display_name": "Python 3",
   "language": "python",
   "name": "python3"
  },
  "language_info": {
   "codemirror_mode": {
    "name": "ipython",
    "version": 3
   },
   "file_extension": ".py",
   "mimetype": "text/x-python",
   "name": "python",
   "nbconvert_exporter": "python",
   "pygments_lexer": "ipython3",
   "version": "3.7.6"
  }
 },
 "nbformat": 4,
 "nbformat_minor": 4
}
